{
 "cells": [
  {
   "cell_type": "code",
   "execution_count": 1,
   "metadata": {
    "pycharm": {}
   },
   "outputs": [],
   "source": [
    "import logging\n",
    "import os\n",
    "import sys\n",
    "import time\n",
    "\n",
    "import numpy as np\n",
    "import matplotlib.pyplot as plt\n",
    "import pykeen\n",
    "from pykeen.kge_models import TransE"
   ]
  },
  {
   "cell_type": "code",
   "execution_count": 2,
   "metadata": {
    "pycharm": {}
   },
   "outputs": [],
   "source": [
    "%matplotlib inline"
   ]
  },
  {
   "cell_type": "code",
   "execution_count": 3,
   "metadata": {
    "pycharm": {}
   },
   "outputs": [],
   "source": [
    "logging.basicConfig(level=logging.INFO)\n",
    "logging.getLogger('pykeen').setLevel(logging.INFO)"
   ]
  },
  {
   "cell_type": "code",
   "execution_count": 4,
   "metadata": {
    "pycharm": {}
   },
   "outputs": [
    {
     "name": "stdout",
     "output_type": "stream",
     "text": [
      "3.7.3 (default, Mar 27 2019, 09:23:15) \n",
      "[Clang 10.0.1 (clang-1001.0.46.3)]\n"
     ]
    }
   ],
   "source": [
    "print(sys.version)"
   ]
  },
  {
   "cell_type": "code",
   "execution_count": 5,
   "metadata": {
    "pycharm": {}
   },
   "outputs": [
    {
     "name": "stdout",
     "output_type": "stream",
     "text": [
      "Mon Oct 28 16:28:48 2019\n"
     ]
    }
   ],
   "source": [
    "print(time.asctime())"
   ]
  },
  {
   "cell_type": "code",
   "execution_count": 6,
   "metadata": {
    "pycharm": {}
   },
   "outputs": [
    {
     "name": "stdout",
     "output_type": "stream",
     "text": [
      "0.0.27-dev\n"
     ]
    }
   ],
   "source": [
    "print(pykeen.get_version())"
   ]
  },
  {
   "cell_type": "markdown",
   "metadata": {
    "pycharm": {}
   },
   "source": [
    "Check which hyper-parameters are required by TransE:"
   ]
  },
  {
   "cell_type": "code",
   "execution_count": 7,
   "metadata": {
    "pycharm": {}
   },
   "outputs": [
    {
     "data": {
      "text/plain": [
       "['embedding_dim',\n",
       " 'margin_loss',\n",
       " 'learning_rate',\n",
       " 'scoring_function',\n",
       " 'normalization_of_entities']"
      ]
     },
     "execution_count": 7,
     "metadata": {},
     "output_type": "execute_result"
    }
   ],
   "source": [
    "TransE.hyper_params"
   ]
  },
  {
   "cell_type": "markdown",
   "metadata": {
    "pycharm": {}
   },
   "source": [
    "Define output directory:"
   ]
  },
  {
   "cell_type": "code",
   "execution_count": 8,
   "metadata": {
    "pycharm": {}
   },
   "outputs": [],
   "source": [
    "output_directory = os.path.join(\n",
    "    '../../iswc_demo/experiments',\n",
    "    'compath'\n",
    ")\n"
   ]
  },
  {
   "cell_type": "markdown",
   "metadata": {
    "pycharm": {}
   },
   "source": [
    "Define hyper-parameters inclduing the evaluation information:\n",
    " * Define the hyper-parameter optimization mode: **HPO_mode**\n",
    " * Define for each hyper-parameter a list of values (single valued lists are possible)\n",
    " * Define the number of hyper-parameter optimization iterations: **maximum_number_of_hpo_iters**\n",
    " * Define the path to the test set (**test_set_path**) or define the ratio of the training set that should be used as test set (**test_set_ratio**)\n",
    " * Define whether you want to compute the metrics (mean rank and hits@k) in raw or in a filtered setting: **filter_negative_triples**"
   ]
  },
  {
   "cell_type": "code",
   "execution_count": 9,
   "metadata": {
    "pycharm": {}
   },
   "outputs": [],
   "source": [
    "config = dict(\n",
    "    training_set_path           = '../../iswc_demo/compath.keen.tsv',\n",
    "    test_set_ratio              = 0.1, # 10% of training set will be used as a test set\n",
    "    execution_mode              = 'HPO_mode', # Define hyper-parameter optimization mode\n",
    "    random_seed                 = 0,\n",
    "    kg_embedding_model_name     = 'TransE',\n",
    "    embedding_dim               = [10,20,50,100],\n",
    "    scoring_function            = [1,2],  \n",
    "    normalization_of_entities   = [2],  # corresponds to L2\n",
    "    margin_loss                 = [1,2,3,4,5,6,7,8,9,10],\n",
    "    learning_rate               = [0.1,0.01,0.001],\n",
    "    num_epochs                  = [50,100],  \n",
    "    batch_size                  = [32],\n",
    "    filter_negative_triples     = True,\n",
    "    maximum_number_of_hpo_iters = 5, # Define the number HPO iterations\n",
    "    preferred_device            = 'cpu'\n",
    ")"
   ]
  },
  {
   "cell_type": "markdown",
   "metadata": {
    "pycharm": {}
   },
   "source": [
    "Train and evaluate TransE:"
   ]
  },
  {
   "cell_type": "code",
   "execution_count": 10,
   "metadata": {
    "pycharm": {}
   },
   "outputs": [
    {
     "name": "stderr",
     "output_type": "stream",
     "text": [
      "HPO Iteration:   0%|          | 0/5 [00:00<?, ?it/s]\n",
      "Training epoch:   0%|          | 0/50 [00:00<?, ?it/s]\u001b[A\n",
      "Training epoch:   2%|▏         | 1/50 [00:00<00:05,  9.74it/s]\u001b[A\n",
      "Training epoch:   4%|▍         | 2/50 [00:00<00:05,  9.56it/s]\u001b[A\n",
      "Training epoch:   8%|▊         | 4/50 [00:00<00:04, 10.17it/s]\u001b[A\n",
      "Training epoch:  12%|█▏        | 6/50 [00:00<00:04, 10.36it/s]\u001b[A\n",
      "Training epoch:  16%|█▌        | 8/50 [00:00<00:03, 10.70it/s]\u001b[A\n",
      "Training epoch:  20%|██        | 10/50 [00:00<00:03, 11.17it/s]\u001b[A\n",
      "Training epoch:  24%|██▍       | 12/50 [00:01<00:03, 11.26it/s]\u001b[A\n",
      "Training epoch:  28%|██▊       | 14/50 [00:01<00:03, 11.10it/s]\u001b[A\n",
      "Training epoch:  32%|███▏      | 16/50 [00:01<00:02, 11.37it/s]\u001b[A\n",
      "Training epoch:  36%|███▌      | 18/50 [00:01<00:02, 11.41it/s]\u001b[A\n",
      "Training epoch:  40%|████      | 20/50 [00:01<00:02, 11.30it/s]\u001b[A\n",
      "Training epoch:  44%|████▍     | 22/50 [00:01<00:02, 11.29it/s]\u001b[A\n",
      "Training epoch:  48%|████▊     | 24/50 [00:02<00:02, 11.05it/s]\u001b[A\n",
      "Training epoch:  52%|█████▏    | 26/50 [00:02<00:02, 11.05it/s]\u001b[A\n",
      "Training epoch:  56%|█████▌    | 28/50 [00:02<00:01, 11.49it/s]\u001b[A\n",
      "Training epoch:  60%|██████    | 30/50 [00:02<00:01, 11.73it/s]\u001b[A\n",
      "Training epoch:  64%|██████▍   | 32/50 [00:02<00:01, 11.42it/s]\u001b[A\n",
      "Training epoch:  68%|██████▊   | 34/50 [00:03<00:01, 11.31it/s]\u001b[A\n",
      "Training epoch:  72%|███████▏  | 36/50 [00:03<00:01, 11.30it/s]\u001b[A\n",
      "Training epoch:  76%|███████▌  | 38/50 [00:03<00:01, 11.33it/s]\u001b[A\n",
      "Training epoch:  80%|████████  | 40/50 [00:03<00:00, 11.30it/s]\u001b[A\n",
      "Training epoch:  84%|████████▍ | 42/50 [00:03<00:00, 11.60it/s]\u001b[A\n",
      "Training epoch:  88%|████████▊ | 44/50 [00:03<00:00, 11.72it/s]\u001b[A\n",
      "Training epoch:  92%|█████████▏| 46/50 [00:04<00:00, 11.55it/s]\u001b[A\n",
      "Training epoch:  96%|█████████▌| 48/50 [00:04<00:00, 11.61it/s]\u001b[A\n",
      "Training epoch: 100%|██████████| 50/50 [00:04<00:00, 11.73it/s]\u001b[A\n",
      "                                                               \u001b[A\n",
      "⚽️ corrupting triples:   0%|          | 0/178 [00:00<?, ?it/s]\u001b[A\n",
      "⚽️ corrupting triples:  40%|███▉      | 71/178 [00:00<00:00, 706.93it/s]\u001b[A\n",
      "⚽️ corrupting triples:  81%|████████▏ | 145/178 [00:00<00:00, 715.87it/s]\u001b[A\n",
      "⚽️ corrupting triples: 100%|██████████| 178/178 [00:00<00:00, 683.30it/s]\u001b[AINFO:pykeen.utilities.evaluation_utils.metrics_computations:Evaluation took 0.27s seconds\n",
      "HPO Iteration:  20%|██        | 1/5 [00:04<00:18,  4.67s/it]\n",
      "Training epoch:   0%|          | 0/50 [00:00<?, ?it/s]\u001b[A\n",
      "Training epoch:   2%|▏         | 1/50 [00:00<00:05,  9.35it/s]\u001b[A\n",
      "Training epoch:   4%|▍         | 2/50 [00:00<00:05,  9.34it/s]\u001b[A\n",
      "Training epoch:   6%|▌         | 3/50 [00:00<00:05,  9.24it/s]\u001b[A\n",
      "Training epoch:   8%|▊         | 4/50 [00:00<00:05,  8.93it/s]\u001b[A\n",
      "Training epoch:  10%|█         | 5/50 [00:00<00:05,  8.71it/s]\u001b[A\n",
      "Training epoch:  12%|█▏        | 6/50 [00:00<00:05,  8.73it/s]\u001b[A\n",
      "Training epoch:  14%|█▍        | 7/50 [00:00<00:04,  8.67it/s]\u001b[A\n",
      "Training epoch:  16%|█▌        | 8/50 [00:00<00:04,  8.76it/s]\u001b[A\n",
      "Training epoch:  18%|█▊        | 9/50 [00:01<00:04,  8.77it/s]\u001b[A\n",
      "Training epoch:  20%|██        | 10/50 [00:01<00:04,  8.75it/s]\u001b[A\n",
      "Training epoch:  22%|██▏       | 11/50 [00:01<00:04,  8.73it/s]\u001b[A\n",
      "Training epoch:  24%|██▍       | 12/50 [00:01<00:04,  8.79it/s]\u001b[A\n",
      "Training epoch:  26%|██▌       | 13/50 [00:01<00:04,  8.92it/s]\u001b[A\n",
      "Training epoch:  28%|██▊       | 14/50 [00:01<00:04,  8.91it/s]\u001b[A\n",
      "Training epoch:  30%|███       | 15/50 [00:01<00:03,  8.76it/s]\u001b[A\n",
      "Training epoch:  32%|███▏      | 16/50 [00:01<00:04,  8.47it/s]\u001b[A\n",
      "Training epoch:  34%|███▍      | 17/50 [00:01<00:03,  8.34it/s]\u001b[A\n",
      "Training epoch:  36%|███▌      | 18/50 [00:02<00:03,  8.21it/s]\u001b[A\n",
      "Training epoch:  38%|███▊      | 19/50 [00:02<00:03,  8.11it/s]\u001b[A\n",
      "Training epoch:  40%|████      | 20/50 [00:02<00:03,  8.10it/s]\u001b[A\n",
      "Training epoch:  42%|████▏     | 21/50 [00:02<00:03,  8.11it/s]\u001b[A\n",
      "Training epoch:  44%|████▍     | 22/50 [00:02<00:03,  8.06it/s]\u001b[A\n",
      "Training epoch:  46%|████▌     | 23/50 [00:02<00:03,  8.04it/s]\u001b[A\n",
      "Training epoch:  48%|████▊     | 24/50 [00:02<00:03,  8.12it/s]\u001b[A\n",
      "Training epoch:  50%|█████     | 25/50 [00:02<00:03,  8.32it/s]\u001b[A\n",
      "Training epoch:  52%|█████▏    | 26/50 [00:03<00:02,  8.44it/s]\u001b[A\n",
      "Training epoch:  54%|█████▍    | 27/50 [00:03<00:02,  8.51it/s]\u001b[A\n",
      "Training epoch:  56%|█████▌    | 28/50 [00:03<00:02,  8.56it/s]\u001b[A\n",
      "Training epoch:  58%|█████▊    | 29/50 [00:03<00:02,  8.62it/s]\u001b[A\n",
      "Training epoch:  60%|██████    | 30/50 [00:03<00:02,  8.59it/s]\u001b[A\n",
      "Training epoch:  62%|██████▏   | 31/50 [00:03<00:02,  8.38it/s]\u001b[A\n",
      "Training epoch:  64%|██████▍   | 32/50 [00:03<00:02,  8.23it/s]\u001b[A\n",
      "Training epoch:  66%|██████▌   | 33/50 [00:03<00:02,  8.21it/s]\u001b[A\n",
      "Training epoch:  68%|██████▊   | 34/50 [00:04<00:01,  8.33it/s]\u001b[A\n",
      "Training epoch:  70%|███████   | 35/50 [00:04<00:01,  8.44it/s]\u001b[A\n",
      "Training epoch:  72%|███████▏  | 36/50 [00:04<00:01,  8.58it/s]\u001b[A\n",
      "Training epoch:  74%|███████▍  | 37/50 [00:04<00:01,  8.71it/s]\u001b[A\n",
      "Training epoch:  76%|███████▌  | 38/50 [00:04<00:01,  8.79it/s]\u001b[A\n",
      "Training epoch:  78%|███████▊  | 39/50 [00:04<00:01,  8.82it/s]\u001b[A\n",
      "Training epoch:  80%|████████  | 40/50 [00:04<00:01,  8.88it/s]\u001b[A\n",
      "Training epoch:  82%|████████▏ | 41/50 [00:04<00:01,  8.91it/s]\u001b[A\n",
      "Training epoch:  84%|████████▍ | 42/50 [00:04<00:00,  8.87it/s]\u001b[A\n",
      "Training epoch:  86%|████████▌ | 43/50 [00:05<00:00,  8.73it/s]\u001b[A\n",
      "Training epoch:  88%|████████▊ | 44/50 [00:05<00:00,  8.49it/s]\u001b[A\n",
      "Training epoch:  90%|█████████ | 45/50 [00:05<00:00,  8.36it/s]\u001b[A\n",
      "Training epoch:  92%|█████████▏| 46/50 [00:05<00:00,  8.32it/s]\u001b[A\n",
      "Training epoch:  94%|█████████▍| 47/50 [00:05<00:00,  8.36it/s]\u001b[A\n",
      "Training epoch:  96%|█████████▌| 48/50 [00:05<00:00,  8.49it/s]\u001b[A\n",
      "Training epoch:  98%|█████████▊| 49/50 [00:05<00:00,  8.54it/s]\u001b[A\n",
      "Training epoch: 100%|██████████| 50/50 [00:05<00:00,  8.56it/s]\u001b[A\n",
      "                                                               \u001b[A\n",
      "⚽️ corrupting triples:   0%|          | 0/178 [00:00<?, ?it/s]\u001b[A\n",
      "⚽️ corrupting triples:  39%|███▉      | 69/178 [00:00<00:00, 688.42it/s]\u001b[A\n",
      "⚽️ corrupting triples:  76%|███████▋  | 136/178 [00:00<00:00, 681.20it/s]\u001b[A\n",
      "⚽️ corrupting triples: 100%|██████████| 178/178 [00:00<00:00, 659.72it/s]\u001b[AINFO:pykeen.utilities.evaluation_utils.metrics_computations:Evaluation took 0.28s seconds\n",
      "HPO Iteration:  40%|████      | 2/5 [00:10<00:15,  5.12s/it]\n",
      "Training epoch:   0%|          | 0/100 [00:00<?, ?it/s]\u001b[A\n",
      "Training epoch:   2%|▏         | 2/100 [00:00<00:08, 11.09it/s]\u001b[A\n",
      "Training epoch:   4%|▍         | 4/100 [00:00<00:08, 11.16it/s]\u001b[A\n",
      "Training epoch:   5%|▌         | 5/100 [00:00<00:08, 10.67it/s]\u001b[A\n",
      "Training epoch:   7%|▋         | 7/100 [00:00<00:08, 10.87it/s]\u001b[A\n",
      "Training epoch:   8%|▊         | 8/100 [00:00<00:08, 10.39it/s]\u001b[A\n",
      "Training epoch:  10%|█         | 10/100 [00:00<00:08, 10.61it/s]\u001b[A\n",
      "Training epoch:  12%|█▏        | 12/100 [00:01<00:08, 10.86it/s]\u001b[A\n",
      "Training epoch:  14%|█▍        | 14/100 [00:01<00:07, 10.89it/s]\u001b[A\n",
      "Training epoch:  16%|█▌        | 16/100 [00:01<00:07, 10.89it/s]\u001b[A\n",
      "Training epoch:  18%|█▊        | 18/100 [00:01<00:07, 10.60it/s]\u001b[A\n",
      "Training epoch:  20%|██        | 20/100 [00:01<00:07, 10.50it/s]\u001b[A\n",
      "Training epoch:  22%|██▏       | 22/100 [00:02<00:07, 10.36it/s]\u001b[A\n",
      "Training epoch:  24%|██▍       | 24/100 [00:02<00:07, 10.48it/s]\u001b[A\n",
      "Training epoch:  26%|██▌       | 26/100 [00:02<00:06, 10.68it/s]\u001b[A\n",
      "Training epoch:  28%|██▊       | 28/100 [00:02<00:06, 10.89it/s]\u001b[A\n",
      "Training epoch:  30%|███       | 30/100 [00:02<00:06, 10.81it/s]\u001b[A\n",
      "Training epoch:  32%|███▏      | 32/100 [00:02<00:06, 10.60it/s]\u001b[A\n",
      "Training epoch:  34%|███▍      | 34/100 [00:03<00:06, 10.55it/s]\u001b[A\n",
      "Training epoch:  36%|███▌      | 36/100 [00:03<00:06, 10.49it/s]\u001b[A\n",
      "Training epoch:  38%|███▊      | 38/100 [00:03<00:05, 10.51it/s]\u001b[A\n",
      "Training epoch:  40%|████      | 40/100 [00:03<00:05, 10.47it/s]\u001b[A\n",
      "Training epoch:  42%|████▏     | 42/100 [00:03<00:05, 10.43it/s]\u001b[A\n",
      "Training epoch:  44%|████▍     | 44/100 [00:04<00:05, 10.79it/s]\u001b[A\n",
      "Training epoch:  46%|████▌     | 46/100 [00:04<00:05, 10.67it/s]\u001b[A\n",
      "Training epoch:  48%|████▊     | 48/100 [00:04<00:04, 10.68it/s]\u001b[A\n",
      "Training epoch:  50%|█████     | 50/100 [00:04<00:04, 10.95it/s]\u001b[A\n",
      "Training epoch:  52%|█████▏    | 52/100 [00:04<00:04, 10.58it/s]\u001b[A\n"
     ]
    },
    {
     "name": "stderr",
     "output_type": "stream",
     "text": [
      "Training epoch:  54%|█████▍    | 54/100 [00:05<00:04, 10.77it/s]\u001b[A\n",
      "Training epoch:  56%|█████▌    | 56/100 [00:05<00:04, 10.84it/s]\u001b[A\n",
      "Training epoch:  58%|█████▊    | 58/100 [00:05<00:03, 10.66it/s]\u001b[A\n",
      "Training epoch:  60%|██████    | 60/100 [00:05<00:03, 10.70it/s]\u001b[A\n",
      "Training epoch:  62%|██████▏   | 62/100 [00:05<00:03, 10.75it/s]\u001b[A\n",
      "Training epoch:  64%|██████▍   | 64/100 [00:05<00:03, 10.47it/s]\u001b[A\n",
      "Training epoch:  66%|██████▌   | 66/100 [00:06<00:03, 10.69it/s]\u001b[A\n",
      "Training epoch:  68%|██████▊   | 68/100 [00:06<00:02, 10.74it/s]\u001b[A\n",
      "Training epoch:  70%|███████   | 70/100 [00:06<00:02, 10.65it/s]\u001b[A\n",
      "Training epoch:  72%|███████▏  | 72/100 [00:06<00:02, 10.84it/s]\u001b[A\n",
      "Training epoch:  74%|███████▍  | 74/100 [00:06<00:02, 10.88it/s]\u001b[A\n",
      "Training epoch:  76%|███████▌  | 76/100 [00:07<00:02, 11.05it/s]\u001b[A\n",
      "Training epoch:  78%|███████▊  | 78/100 [00:07<00:01, 11.13it/s]\u001b[A\n",
      "Training epoch:  80%|████████  | 80/100 [00:07<00:01, 10.99it/s]\u001b[A\n",
      "Training epoch:  82%|████████▏ | 82/100 [00:07<00:01, 11.03it/s]\u001b[A\n",
      "Training epoch:  84%|████████▍ | 84/100 [00:07<00:01, 10.95it/s]\u001b[A\n",
      "Training epoch:  86%|████████▌ | 86/100 [00:07<00:01, 10.97it/s]\u001b[A\n",
      "Training epoch:  88%|████████▊ | 88/100 [00:08<00:01, 10.65it/s]\u001b[A\n",
      "Training epoch:  90%|█████████ | 90/100 [00:08<00:00, 10.71it/s]\u001b[A\n",
      "Training epoch:  92%|█████████▏| 92/100 [00:08<00:00, 10.95it/s]\u001b[A\n",
      "Training epoch:  94%|█████████▍| 94/100 [00:08<00:00, 11.09it/s]\u001b[A\n",
      "Training epoch:  96%|█████████▌| 96/100 [00:08<00:00, 11.19it/s]\u001b[A\n",
      "Training epoch:  98%|█████████▊| 98/100 [00:09<00:00, 11.28it/s]\u001b[A\n",
      "Training epoch: 100%|██████████| 100/100 [00:09<00:00, 11.15it/s]\u001b[A\n",
      "                                                                 \u001b[A\n",
      "⚽️ corrupting triples:   0%|          | 0/178 [00:00<?, ?it/s]\u001b[A\n",
      "⚽️ corrupting triples:  41%|████      | 73/178 [00:00<00:00, 728.86it/s]\u001b[A\n",
      "⚽️ corrupting triples:  87%|████████▋ | 154/178 [00:00<00:00, 751.07it/s]\u001b[A\n",
      "⚽️ corrupting triples: 100%|██████████| 178/178 [00:00<00:00, 765.99it/s]\u001b[AINFO:pykeen.utilities.evaluation_utils.metrics_computations:Evaluation took 0.24s seconds\n",
      "HPO Iteration:  60%|██████    | 3/5 [00:20<00:12,  6.43s/it]\n",
      "Training epoch:   0%|          | 0/50 [00:00<?, ?it/s]\u001b[A\n",
      "Training epoch:   2%|▏         | 1/50 [00:00<00:07,  6.38it/s]\u001b[A\n",
      "Training epoch:   4%|▍         | 2/50 [00:00<00:07,  6.35it/s]\u001b[A\n",
      "Training epoch:   6%|▌         | 3/50 [00:00<00:07,  6.35it/s]\u001b[A\n",
      "Training epoch:   8%|▊         | 4/50 [00:00<00:07,  6.35it/s]\u001b[A\n",
      "Training epoch:  10%|█         | 5/50 [00:00<00:07,  6.40it/s]\u001b[A\n",
      "Training epoch:  12%|█▏        | 6/50 [00:00<00:06,  6.43it/s]\u001b[A\n",
      "Training epoch:  14%|█▍        | 7/50 [00:01<00:06,  6.45it/s]\u001b[A\n",
      "Training epoch:  16%|█▌        | 8/50 [00:01<00:06,  6.41it/s]\u001b[A\n",
      "Training epoch:  18%|█▊        | 9/50 [00:01<00:06,  6.27it/s]\u001b[A\n",
      "Training epoch:  20%|██        | 10/50 [00:01<00:06,  6.40it/s]\u001b[A\n",
      "Training epoch:  22%|██▏       | 11/50 [00:01<00:06,  6.42it/s]\u001b[A\n",
      "Training epoch:  24%|██▍       | 12/50 [00:01<00:05,  6.46it/s]\u001b[A\n",
      "Training epoch:  26%|██▌       | 13/50 [00:02<00:05,  6.51it/s]\u001b[A\n",
      "Training epoch:  28%|██▊       | 14/50 [00:02<00:05,  6.50it/s]\u001b[A\n",
      "Training epoch:  30%|███       | 15/50 [00:02<00:05,  6.53it/s]\u001b[A\n",
      "Training epoch:  32%|███▏      | 16/50 [00:02<00:05,  6.57it/s]\u001b[A\n",
      "Training epoch:  34%|███▍      | 17/50 [00:02<00:05,  6.53it/s]\u001b[A\n",
      "Training epoch:  36%|███▌      | 18/50 [00:02<00:04,  6.62it/s]\u001b[A\n",
      "Training epoch:  38%|███▊      | 19/50 [00:02<00:04,  6.68it/s]\u001b[A\n",
      "Training epoch:  40%|████      | 20/50 [00:03<00:04,  6.69it/s]\u001b[A\n",
      "Training epoch:  42%|████▏     | 21/50 [00:03<00:04,  6.65it/s]\u001b[A\n",
      "Training epoch:  44%|████▍     | 22/50 [00:03<00:04,  6.73it/s]\u001b[A\n",
      "Training epoch:  46%|████▌     | 23/50 [00:03<00:03,  6.77it/s]\u001b[A\n",
      "Training epoch:  48%|████▊     | 24/50 [00:03<00:03,  6.83it/s]\u001b[A\n",
      "Training epoch:  50%|█████     | 25/50 [00:03<00:03,  6.67it/s]\u001b[A\n",
      "Training epoch:  52%|█████▏    | 26/50 [00:03<00:03,  6.66it/s]\u001b[A\n",
      "Training epoch:  54%|█████▍    | 27/50 [00:04<00:03,  6.62it/s]\u001b[A\n",
      "Training epoch:  56%|█████▌    | 28/50 [00:04<00:03,  6.71it/s]\u001b[A\n",
      "Training epoch:  58%|█████▊    | 29/50 [00:04<00:03,  6.66it/s]\u001b[A\n",
      "Training epoch:  60%|██████    | 30/50 [00:04<00:02,  6.75it/s]\u001b[A\n",
      "Training epoch:  62%|██████▏   | 31/50 [00:04<00:02,  6.79it/s]\u001b[A\n",
      "Training epoch:  64%|██████▍   | 32/50 [00:04<00:02,  6.81it/s]\u001b[A\n",
      "Training epoch:  66%|██████▌   | 33/50 [00:05<00:02,  6.73it/s]\u001b[A\n",
      "Training epoch:  68%|██████▊   | 34/50 [00:05<00:02,  6.69it/s]\u001b[A\n",
      "Training epoch:  70%|███████   | 35/50 [00:05<00:02,  6.75it/s]\u001b[A\n",
      "Training epoch:  72%|███████▏  | 36/50 [00:05<00:02,  6.78it/s]\u001b[A\n",
      "Training epoch:  74%|███████▍  | 37/50 [00:05<00:01,  6.81it/s]\u001b[A\n",
      "Training epoch:  76%|███████▌  | 38/50 [00:05<00:01,  6.84it/s]\u001b[A\n",
      "Training epoch:  78%|███████▊  | 39/50 [00:05<00:01,  6.78it/s]\u001b[A\n",
      "Training epoch:  80%|████████  | 40/50 [00:06<00:01,  6.70it/s]\u001b[A\n",
      "Training epoch:  82%|████████▏ | 41/50 [00:06<00:01,  6.72it/s]\u001b[A\n",
      "Training epoch:  84%|████████▍ | 42/50 [00:06<00:01,  6.78it/s]\u001b[A\n",
      "Training epoch:  86%|████████▌ | 43/50 [00:06<00:01,  6.82it/s]\u001b[A\n",
      "Training epoch:  88%|████████▊ | 44/50 [00:06<00:00,  6.86it/s]\u001b[A\n",
      "Training epoch:  90%|█████████ | 45/50 [00:06<00:00,  6.84it/s]\u001b[A\n",
      "Training epoch:  92%|█████████▏| 46/50 [00:06<00:00,  6.74it/s]\u001b[A\n",
      "Training epoch:  94%|█████████▍| 47/50 [00:07<00:00,  6.65it/s]\u001b[A\n",
      "Training epoch:  96%|█████████▌| 48/50 [00:07<00:00,  6.61it/s]\u001b[A\n",
      "Training epoch:  98%|█████████▊| 49/50 [00:07<00:00,  6.60it/s]\u001b[A\n",
      "Training epoch: 100%|██████████| 50/50 [00:07<00:00,  6.53it/s]\u001b[A\n",
      "                                                               \u001b[A\n",
      "⚽️ corrupting triples:   0%|          | 0/178 [00:00<?, ?it/s]\u001b[A\n",
      "⚽️ corrupting triples:  30%|██▉       | 53/178 [00:00<00:00, 520.35it/s]\u001b[A\n",
      "⚽️ corrupting triples:  58%|█████▊    | 103/178 [00:00<00:00, 514.06it/s]\u001b[A\n",
      "⚽️ corrupting triples:  84%|████████▍ | 150/178 [00:00<00:00, 499.99it/s]\u001b[A\n",
      "⚽️ corrupting triples: 100%|██████████| 178/178 [00:00<00:00, 496.18it/s]\u001b[AINFO:pykeen.utilities.evaluation_utils.metrics_computations:Evaluation took 0.37s seconds\n",
      "HPO Iteration:  80%|████████  | 4/5 [00:28<00:06,  6.88s/it]\n",
      "Training epoch:   0%|          | 0/100 [00:00<?, ?it/s]\u001b[A\n",
      "Training epoch:   1%|          | 1/100 [00:00<00:13,  7.30it/s]\u001b[A\n",
      "Training epoch:   2%|▏         | 2/100 [00:00<00:13,  7.03it/s]\u001b[A\n",
      "Training epoch:   3%|▎         | 3/100 [00:00<00:14,  6.58it/s]\u001b[A\n",
      "Training epoch:   4%|▍         | 4/100 [00:00<00:14,  6.41it/s]\u001b[A\n",
      "Training epoch:   5%|▌         | 5/100 [00:00<00:14,  6.42it/s]\u001b[A\n",
      "Training epoch:   6%|▌         | 6/100 [00:00<00:14,  6.60it/s]\u001b[A\n",
      "Training epoch:   7%|▋         | 7/100 [00:01<00:14,  6.59it/s]\u001b[A\n",
      "Training epoch:   8%|▊         | 8/100 [00:01<00:13,  6.61it/s]\u001b[A\n",
      "Training epoch:   9%|▉         | 9/100 [00:01<00:13,  6.63it/s]\u001b[A\n",
      "Training epoch:  10%|█         | 10/100 [00:01<00:14,  6.39it/s]\u001b[A\n",
      "Training epoch:  11%|█         | 11/100 [00:01<00:14,  6.28it/s]\u001b[A\n",
      "Training epoch:  12%|█▏        | 12/100 [00:01<00:14,  6.26it/s]\u001b[A\n",
      "Training epoch:  13%|█▎        | 13/100 [00:02<00:13,  6.39it/s]\u001b[A\n",
      "Training epoch:  14%|█▍        | 14/100 [00:02<00:13,  6.34it/s]\u001b[A\n",
      "Training epoch:  15%|█▌        | 15/100 [00:02<00:13,  6.52it/s]\u001b[A\n",
      "Training epoch:  16%|█▌        | 16/100 [00:02<00:12,  6.55it/s]\u001b[A\n",
      "Training epoch:  17%|█▋        | 17/100 [00:02<00:13,  6.23it/s]\u001b[A\n",
      "Training epoch:  18%|█▊        | 18/100 [00:02<00:13,  6.15it/s]\u001b[A\n",
      "Training epoch:  19%|█▉        | 19/100 [00:02<00:13,  6.18it/s]\u001b[A\n",
      "Training epoch:  20%|██        | 20/100 [00:03<00:12,  6.32it/s]\u001b[A\n",
      "Training epoch:  21%|██        | 21/100 [00:03<00:12,  6.55it/s]\u001b[A\n",
      "Training epoch:  22%|██▏       | 22/100 [00:03<00:11,  6.54it/s]\u001b[A\n",
      "Training epoch:  23%|██▎       | 23/100 [00:03<00:11,  6.52it/s]\u001b[A\n",
      "Training epoch:  24%|██▍       | 24/100 [00:03<00:12,  6.30it/s]\u001b[A\n",
      "Training epoch:  25%|██▌       | 25/100 [00:03<00:11,  6.48it/s]\u001b[A\n",
      "Training epoch:  26%|██▌       | 26/100 [00:04<00:11,  6.66it/s]\u001b[A\n",
      "Training epoch:  27%|██▋       | 27/100 [00:04<00:10,  6.72it/s]\u001b[A\n",
      "Training epoch:  28%|██▊       | 28/100 [00:04<00:10,  6.67it/s]\u001b[A\n",
      "Training epoch:  29%|██▉       | 29/100 [00:04<00:10,  6.63it/s]\u001b[A\n"
     ]
    },
    {
     "name": "stderr",
     "output_type": "stream",
     "text": [
      "Training epoch:  30%|███       | 30/100 [00:04<00:10,  6.69it/s]\u001b[A\n",
      "Training epoch:  31%|███       | 31/100 [00:04<00:10,  6.77it/s]\u001b[A\n",
      "Training epoch:  32%|███▏      | 32/100 [00:04<00:10,  6.77it/s]\u001b[A\n",
      "Training epoch:  33%|███▎      | 33/100 [00:05<00:09,  6.75it/s]\u001b[A\n",
      "Training epoch:  34%|███▍      | 34/100 [00:05<00:09,  6.77it/s]\u001b[A\n",
      "Training epoch:  35%|███▌      | 35/100 [00:05<00:09,  6.71it/s]\u001b[A\n",
      "Training epoch:  36%|███▌      | 36/100 [00:05<00:09,  6.68it/s]\u001b[A\n",
      "Training epoch:  37%|███▋      | 37/100 [00:05<00:09,  6.64it/s]\u001b[A\n",
      "Training epoch:  38%|███▊      | 38/100 [00:05<00:09,  6.73it/s]\u001b[A\n",
      "Training epoch:  39%|███▉      | 39/100 [00:05<00:09,  6.71it/s]\u001b[A\n",
      "Training epoch:  40%|████      | 40/100 [00:06<00:08,  6.80it/s]\u001b[A\n",
      "Training epoch:  41%|████      | 41/100 [00:06<00:08,  6.73it/s]\u001b[A\n",
      "Training epoch:  42%|████▏     | 42/100 [00:06<00:08,  6.74it/s]\u001b[A\n",
      "Training epoch:  43%|████▎     | 43/100 [00:06<00:08,  6.80it/s]\u001b[A\n",
      "Training epoch:  44%|████▍     | 44/100 [00:06<00:08,  6.86it/s]\u001b[A\n",
      "Training epoch:  45%|████▌     | 45/100 [00:06<00:08,  6.79it/s]\u001b[A\n",
      "Training epoch:  46%|████▌     | 46/100 [00:07<00:07,  6.81it/s]\u001b[A\n",
      "Training epoch:  47%|████▋     | 47/100 [00:07<00:07,  6.84it/s]\u001b[A\n",
      "Training epoch:  48%|████▊     | 48/100 [00:07<00:07,  6.85it/s]\u001b[A\n",
      "Training epoch:  49%|████▉     | 49/100 [00:07<00:07,  6.68it/s]\u001b[A\n",
      "Training epoch:  50%|█████     | 50/100 [00:07<00:07,  6.75it/s]\u001b[A\n",
      "Training epoch:  51%|█████     | 51/100 [00:07<00:07,  6.80it/s]\u001b[A\n",
      "Training epoch:  52%|█████▏    | 52/100 [00:07<00:07,  6.67it/s]\u001b[A\n",
      "Training epoch:  53%|█████▎    | 53/100 [00:08<00:07,  6.63it/s]\u001b[A\n",
      "Training epoch:  54%|█████▍    | 54/100 [00:08<00:06,  6.73it/s]\u001b[A\n",
      "Training epoch:  55%|█████▌    | 55/100 [00:08<00:06,  6.53it/s]\u001b[A\n",
      "Training epoch:  56%|█████▌    | 56/100 [00:08<00:06,  6.40it/s]\u001b[A\n",
      "Training epoch:  57%|█████▋    | 57/100 [00:08<00:06,  6.44it/s]\u001b[A\n",
      "Training epoch:  58%|█████▊    | 58/100 [00:08<00:06,  6.55it/s]\u001b[A\n",
      "Training epoch:  59%|█████▉    | 59/100 [00:08<00:06,  6.58it/s]\u001b[A\n",
      "Training epoch:  60%|██████    | 60/100 [00:09<00:06,  6.50it/s]\u001b[A\n",
      "Training epoch:  61%|██████    | 61/100 [00:09<00:06,  6.36it/s]\u001b[A\n",
      "Training epoch:  62%|██████▏   | 62/100 [00:09<00:05,  6.53it/s]\u001b[A\n",
      "Training epoch:  63%|██████▎   | 63/100 [00:09<00:05,  6.63it/s]\u001b[A\n",
      "Training epoch:  64%|██████▍   | 64/100 [00:09<00:05,  6.66it/s]\u001b[A\n",
      "Training epoch:  65%|██████▌   | 65/100 [00:09<00:05,  6.32it/s]\u001b[A\n",
      "Training epoch:  66%|██████▌   | 66/100 [00:10<00:05,  6.18it/s]\u001b[A\n",
      "Training epoch:  67%|██████▋   | 67/100 [00:10<00:05,  6.37it/s]\u001b[A\n",
      "Training epoch:  68%|██████▊   | 68/100 [00:10<00:05,  5.72it/s]\u001b[A\n",
      "Training epoch:  69%|██████▉   | 69/100 [00:10<00:05,  5.70it/s]\u001b[A\n",
      "Training epoch:  70%|███████   | 70/100 [00:10<00:05,  5.65it/s]\u001b[A\n",
      "Training epoch:  71%|███████   | 71/100 [00:10<00:04,  5.81it/s]\u001b[A\n",
      "Training epoch:  72%|███████▏  | 72/100 [00:11<00:04,  6.09it/s]\u001b[A\n",
      "Training epoch:  73%|███████▎  | 73/100 [00:11<00:04,  6.22it/s]\u001b[A\n",
      "Training epoch:  74%|███████▍  | 74/100 [00:11<00:04,  6.10it/s]\u001b[A\n",
      "Training epoch:  75%|███████▌  | 75/100 [00:11<00:04,  6.08it/s]\u001b[A\n",
      "Training epoch:  76%|███████▌  | 76/100 [00:11<00:03,  6.05it/s]\u001b[A\n",
      "Training epoch:  77%|███████▋  | 77/100 [00:11<00:03,  6.10it/s]\u001b[A\n",
      "Training epoch:  78%|███████▊  | 78/100 [00:12<00:03,  6.13it/s]\u001b[A\n",
      "Training epoch:  79%|███████▉  | 79/100 [00:12<00:03,  6.14it/s]\u001b[A\n",
      "Training epoch:  80%|████████  | 80/100 [00:12<00:03,  6.26it/s]\u001b[A\n",
      "Training epoch:  81%|████████  | 81/100 [00:12<00:02,  6.50it/s]\u001b[A\n",
      "Training epoch:  82%|████████▏ | 82/100 [00:12<00:02,  6.70it/s]\u001b[A\n",
      "Training epoch:  83%|████████▎ | 83/100 [00:12<00:02,  6.64it/s]\u001b[A\n",
      "Training epoch:  84%|████████▍ | 84/100 [00:13<00:02,  6.35it/s]\u001b[A\n",
      "Training epoch:  85%|████████▌ | 85/100 [00:13<00:02,  6.29it/s]\u001b[A\n",
      "Training epoch:  86%|████████▌ | 86/100 [00:13<00:02,  6.24it/s]\u001b[A\n",
      "Training epoch:  87%|████████▋ | 87/100 [00:13<00:02,  6.23it/s]\u001b[A\n",
      "Training epoch:  88%|████████▊ | 88/100 [00:13<00:01,  6.16it/s]\u001b[A\n",
      "Training epoch:  89%|████████▉ | 89/100 [00:13<00:01,  6.09it/s]\u001b[A\n",
      "Training epoch:  90%|█████████ | 90/100 [00:13<00:01,  6.19it/s]\u001b[A\n",
      "Training epoch:  91%|█████████ | 91/100 [00:14<00:01,  6.30it/s]\u001b[A\n",
      "Training epoch:  92%|█████████▏| 92/100 [00:14<00:01,  6.22it/s]\u001b[A\n",
      "Training epoch:  93%|█████████▎| 93/100 [00:14<00:01,  6.26it/s]\u001b[A\n",
      "Training epoch:  94%|█████████▍| 94/100 [00:14<00:00,  6.39it/s]\u001b[A\n",
      "Training epoch:  95%|█████████▌| 95/100 [00:14<00:00,  6.53it/s]\u001b[A\n",
      "Training epoch:  96%|█████████▌| 96/100 [00:14<00:00,  6.59it/s]\u001b[A\n",
      "Training epoch:  97%|█████████▋| 97/100 [00:15<00:00,  6.70it/s]\u001b[A\n",
      "Training epoch:  98%|█████████▊| 98/100 [00:15<00:00,  6.78it/s]\u001b[A\n",
      "Training epoch:  99%|█████████▉| 99/100 [00:15<00:00,  6.85it/s]\u001b[A\n",
      "Training epoch: 100%|██████████| 100/100 [00:15<00:00,  6.86it/s]\u001b[A\n",
      "                                                                 \u001b[A\n",
      "⚽️ corrupting triples:   0%|          | 0/178 [00:00<?, ?it/s]\u001b[A\n",
      "⚽️ corrupting triples:  33%|███▎      | 59/178 [00:00<00:00, 589.44it/s]\u001b[A\n",
      "⚽️ corrupting triples:  66%|██████▋   | 118/178 [00:00<00:00, 587.02it/s]\u001b[A\n",
      "⚽️ corrupting triples: 100%|██████████| 178/178 [00:00<00:00, 589.90it/s]\u001b[AINFO:pykeen.utilities.evaluation_utils.metrics_computations:Evaluation took 0.31s seconds\n",
      "HPO Iteration: 100%|██████████| 5/5 [00:44<00:00,  9.55s/it]\n"
     ]
    }
   ],
   "source": [
    "results = pykeen.run(\n",
    "    config=config,\n",
    "    output_directory=output_directory,\n",
    ")"
   ]
  },
  {
   "cell_type": "markdown",
   "metadata": {
    "pycharm": {}
   },
   "source": [
    "Check result entries:"
   ]
  },
  {
   "cell_type": "code",
   "execution_count": 11,
   "metadata": {
    "pycharm": {}
   },
   "outputs": [
    {
     "data": {
      "text/plain": [
       "odict_keys(['trained_model', 'losses', 'entity_to_embedding', 'relation_to_embedding', 'eval_summary', 'entity_to_id', 'relation_to_id', 'final_configuration'])"
      ]
     },
     "execution_count": 11,
     "metadata": {},
     "output_type": "execute_result"
    }
   ],
   "source": [
    "results.results.keys()"
   ]
  },
  {
   "cell_type": "markdown",
   "metadata": {
    "pycharm": {}
   },
   "source": [
    "Get the model configuration that lead to best results:"
   ]
  },
  {
   "cell_type": "code",
   "execution_count": 12,
   "metadata": {
    "pycharm": {}
   },
   "outputs": [
    {
     "data": {
      "text/plain": [
       "{'training_set_path': '../../iswc_demo/compath.keen.tsv',\n",
       " 'test_set_ratio': 0.1,\n",
       " 'execution_mode': 'HPO_mode',\n",
       " 'random_seed': 0,\n",
       " 'kg_embedding_model_name': 'TransE',\n",
       " 'embedding_dim': 20,\n",
       " 'scoring_function': 1,\n",
       " 'normalization_of_entities': 2,\n",
       " 'margin_loss': 10,\n",
       " 'learning_rate': 0.1,\n",
       " 'num_epochs': 100,\n",
       " 'batch_size': 32,\n",
       " 'filter_negative_triples': True,\n",
       " 'maximum_number_of_hpo_iters': 5,\n",
       " 'preferred_device': 'cpu',\n",
       " 'pykeen-version': '0.0.27-dev',\n",
       " 'num_entities': 1125,\n",
       " 'num_relations': 2}"
      ]
     },
     "execution_count": 12,
     "metadata": {},
     "output_type": "execute_result"
    }
   ],
   "source": [
    "results.results['final_configuration']"
   ]
  },
  {
   "cell_type": "markdown",
   "metadata": {
    "pycharm": {}
   },
   "source": [
    "Access trained model:"
   ]
  },
  {
   "cell_type": "code",
   "execution_count": 13,
   "metadata": {
    "pycharm": {}
   },
   "outputs": [
    {
     "data": {
      "text/plain": [
       "TransE(\n",
       "  (criterion): MarginRankingLoss()\n",
       "  (entity_embeddings): Embedding(1125, 20)\n",
       "  (relation_embeddings): Embedding(2, 20)\n",
       ")"
      ]
     },
     "execution_count": 13,
     "metadata": {},
     "output_type": "execute_result"
    }
   ],
   "source": [
    "results.results['trained_model']"
   ]
  },
  {
   "cell_type": "markdown",
   "metadata": {
    "pycharm": {}
   },
   "source": [
    "Visualize loss values:"
   ]
  },
  {
   "cell_type": "code",
   "execution_count": 14,
   "metadata": {
    "pycharm": {}
   },
   "outputs": [
    {
     "data": {
      "image/png": "[encoded data removed]",
      "text/plain": [
       "<Figure size 432x288 with 1 Axes>"
      ]
     },
     "metadata": {
      "needs_background": "light"
     },
     "output_type": "display_data"
    }
   ],
   "source": [
    "losses = results.results['losses']\n",
    "epochs = np.arange(len(losses))\n",
    "plt.title(r'Loss Per Epoch')\n",
    "plt.xlabel('epoch')\n",
    "plt.ylabel('loss')\n",
    "plt.plot(epochs, losses)\n",
    "plt.show()"
   ]
  },
  {
   "cell_type": "markdown",
   "metadata": {
    "pycharm": {}
   },
   "source": [
    "Get evaluation results:\n",
    " * Mean rank\n",
    " * Hits@k, k $\\in$ {1,3,5,10} "
   ]
  },
  {
   "cell_type": "code",
   "execution_count": 15,
   "metadata": {
    "pycharm": {}
   },
   "outputs": [
    {
     "data": {
      "text/plain": [
       "{'mean_rank': 268.8820224719101,\n",
       " 'hits@k': {1: 0.028089887640449437,\n",
       "  3: 0.25,\n",
       "  5: 0.28651685393258425,\n",
       "  10: 0.36235955056179775}}"
      ]
     },
     "execution_count": 15,
     "metadata": {},
     "output_type": "execute_result"
    }
   ],
   "source": [
    "results.results['eval_summary']"
   ]
  },
  {
   "cell_type": "code",
   "execution_count": null,
   "metadata": {
    "pycharm": {}
   },
   "outputs": [],
   "source": []
  }
 ],
 "metadata": {
  "kernelspec": {
   "display_name": "Python 3",
   "language": "python",
   "name": "python3"
  },
  "language_info": {
   "codemirror_mode": {
    "name": "ipython",
    "version": 3
   },
   "file_extension": ".py",
   "mimetype": "text/x-python",
   "name": "python",
   "nbconvert_exporter": "python",
   "pygments_lexer": "ipython3",
   "version": "3.7.3"
  }
 },
 "nbformat": 4,
 "nbformat_minor": 2
}
