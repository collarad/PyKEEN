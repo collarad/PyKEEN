{
 "cells": [
  {
   "cell_type": "code",
   "execution_count": 1,
   "metadata": {},
   "outputs": [],
   "source": [
    "import logging\n",
    "import os\n",
    "import sys\n",
    "import time\n",
    "\n",
    "import numpy as np\n",
    "import matplotlib.pyplot as plt\n",
    "import pykeen"
   ]
  },
  {
   "cell_type": "code",
   "execution_count": 2,
   "metadata": {},
   "outputs": [
    {
     "name": "stdout",
     "output_type": "stream",
     "text": [
      "Mon Oct 28 16:31:56 2019\n"
     ]
    }
   ],
   "source": [
    "print(time.asctime())"
   ]
  },
  {
   "cell_type": "code",
   "execution_count": 3,
   "metadata": {},
   "outputs": [
    {
     "name": "stdout",
     "output_type": "stream",
     "text": [
      "0.0.27-dev\n"
     ]
    }
   ],
   "source": [
    "print(pykeen.get_version())"
   ]
  },
  {
   "cell_type": "code",
   "execution_count": 4,
   "metadata": {},
   "outputs": [],
   "source": [
    "model_directory = '../../tests/resources/data/trained_model'"
   ]
  },
  {
   "cell_type": "markdown",
   "metadata": {},
   "source": [
    "Prepare inference workflow"
   ]
  },
  {
   "cell_type": "markdown",
   "metadata": {},
   "source": [
    "Set path to model directory: Done above"
   ]
  },
  {
   "cell_type": "markdown",
   "metadata": {},
   "source": [
    "Set path to data directory:\n",
    "* Should contain the candidate entities as *entities.tsv*\n",
    "* Should contain the candidate relations as *relations.tsv*"
   ]
  },
  {
   "cell_type": "code",
   "execution_count": 5,
   "metadata": {},
   "outputs": [],
   "source": [
    "data_directory = '../../tests/resources/data'"
   ]
  },
  {
   "cell_type": "markdown",
   "metadata": {},
   "source": [
    "Set path to triples that should be removed from the candidate triples. We want to exclude all the tripels from the training set:"
   ]
  },
  {
   "cell_type": "code",
   "execution_count": 6,
   "metadata": {},
   "outputs": [],
   "source": [
    "path_to_blacklisted_triples = '../../tests/resources/data/rdf.nt'"
   ]
  },
  {
   "cell_type": "code",
   "execution_count": 7,
   "metadata": {},
   "outputs": [],
   "source": [
    "from pykeen.predict import start_predictions_pipeline"
   ]
  },
  {
   "cell_type": "code",
   "execution_count": 8,
   "metadata": {},
   "outputs": [],
   "source": [
    "predictions = start_predictions_pipeline(model_directory=model_directory,\n",
    "                                         data_directory=data_directory,\n",
    "                                         path_to_blacklisted_triples=path_to_blacklisted_triples,\n",
    "                                         export_predictions=False)"
   ]
  },
  {
   "cell_type": "markdown",
   "metadata": {},
   "source": [
    "Lower value represent a higher confidence:"
   ]
  },
  {
   "cell_type": "code",
   "execution_count": 9,
   "metadata": {},
   "outputs": [
    {
     "data": {
      "text/plain": [
       "array([['http://dbpedia.org/resource/Charles_Dickens',\n",
       "        'http://dbpedia.org/ontology/influenced', 'Charles', '11.709771'],\n",
       "       ['http://dbpedia.org/resource/Gads_Hill_Place',\n",
       "        'http://xmlns.com/foaf/0.1/givenName', 'Charles', '12.307508'],\n",
       "       ['http://dbpedia.org/resource/Charles_Dickens',\n",
       "        'http://xmlns.com/foaf/0.1/givenName',\n",
       "        'http://dbpedia.org/resource/Gads_Hill_Place', '12.387419'],\n",
       "       ['Charles', 'http://commons.dbpedia.org/property/description',\n",
       "        'http://dbpedia.org/resource/Charles_Dickens', '12.437754'],\n",
       "       ['http://dbpedia.org/resource/Gads_Hill_Place',\n",
       "        'http://dbpedia.org/ontology/influenced', 'Charles', '12.506025'],\n",
       "       ['http://dbpedia.org/resource/Gads_Hill_Place',\n",
       "        'http://xmlns.com/foaf/0.1/givenName',\n",
       "        'http://dbpedia.org/resource/Charles_Dickens', '12.712023'],\n",
       "       ['http://dbpedia.org/resource/Gads_Hill_Place',\n",
       "        'http://commons.dbpedia.org/property/description',\n",
       "        'http://dbpedia.org/resource/Charles_Dickens', '12.8177185'],\n",
       "       ['http://dbpedia.org/resource/Gads_Hill_Place',\n",
       "        'http://dbpedia.org/ontology/influenced',\n",
       "        'http://dbpedia.org/resource/Charles_Dickens', '12.827783'],\n",
       "       ['http://commons.dbpedia.org/resource/File:Hunebed_010.jpg',\n",
       "        'http://commons.dbpedia.org/property/description', 'Charles',\n",
       "        '13.023837'],\n",
       "       ['http://commons.dbpedia.org/resource/File:Hunebed_010.jpg',\n",
       "        'http://commons.dbpedia.org/property/description',\n",
       "        'http://dbpedia.org/resource/Gads_Hill_Place', '13.05122'],\n",
       "       ['http://commons.dbpedia.org/resource/Category:Places',\n",
       "        'http://xmlns.com/foaf/0.1/givenName', 'Charles', '13.138028'],\n",
       "       ['http://dbpedia.org/resource/Charles_Dickens',\n",
       "        'http://dbpedia.org/ontology/influenced',\n",
       "        'http://dbpedia.org/resource/Gads_Hill_Place', '13.169113'],\n",
       "       ['http://commons.dbpedia.org/resource/File:Hunebed_010.jpg',\n",
       "        'http://commons.dbpedia.org/property/description',\n",
       "        'http://dbpedia.org/resource/Charles_Dickens', '13.282456'],\n",
       "       ['http://dbpedia.org/resource/Charles_Dickens',\n",
       "        'http://xmlns.com/foaf/0.1/givenName',\n",
       "        'http://commons.dbpedia.org/resource/Category:Places',\n",
       "        '13.299363'],\n",
       "       ['Charles', 'http://dbpedia.org/ontology/influenced',\n",
       "        'http://dbpedia.org/resource/Charles_Dickens', '13.509007'],\n",
       "       ['http://commons.dbpedia.org/resource/Category:Places',\n",
       "        'http://dbpedia.org/ontology/influenced', 'Charles', '13.548038'],\n",
       "       ['http://commons.dbpedia.org/resource/Category:Places',\n",
       "        'http://commons.dbpedia.org/property/description',\n",
       "        'http://dbpedia.org/resource/Charles_Dickens', '13.650365'],\n",
       "       ['http://dbpedia.org/resource/Gads_Hill_Place',\n",
       "        'http://xmlns.com/foaf/0.1/givenName',\n",
       "        'http://commons.dbpedia.org/resource/Category:Places',\n",
       "        '13.690363'],\n",
       "       ['http://commons.dbpedia.org/resource/Category:Places',\n",
       "        'http://xmlns.com/foaf/0.1/givenName',\n",
       "        'http://dbpedia.org/resource/Gads_Hill_Place', '13.70171'],\n",
       "       ['http://commons.dbpedia.org/resource/Category:Places',\n",
       "        'http://dbpedia.org/ontology/influenced',\n",
       "        'http://dbpedia.org/resource/Gads_Hill_Place', '13.754726'],\n",
       "       ['http://dbpedia.org/resource/Gads_Hill_Place',\n",
       "        'http://dbpedia.org/ontology/influenced',\n",
       "        'http://commons.dbpedia.org/resource/File:Hunebed_010.jpg',\n",
       "        '13.863836'],\n",
       "       ['http://commons.dbpedia.org/resource/Category:Places',\n",
       "        'http://dbpedia.org/ontology/influenced',\n",
       "        'http://dbpedia.org/resource/Charles_Dickens', '13.912147'],\n",
       "       ['http://commons.dbpedia.org/resource/Category:Places',\n",
       "        'http://dbpedia.org/ontology/influenced',\n",
       "        'http://commons.dbpedia.org/resource/File:Hunebed_010.jpg',\n",
       "        '13.947113'],\n",
       "       ['http://commons.dbpedia.org/resource/File:Hunebed_010.jpg',\n",
       "        'http://dbpedia.org/ontology/influenced', 'Charles', '14.024793'],\n",
       "       ['http://commons.dbpedia.org/resource/File:Hunebed_010.jpg',\n",
       "        'http://commons.dbpedia.org/property/description',\n",
       "        'http://commons.dbpedia.org/resource/Category:Places',\n",
       "        '14.035666'],\n",
       "       ['http://commons.dbpedia.org/resource/File:Hunebed_010.jpg',\n",
       "        'http://xmlns.com/foaf/0.1/givenName',\n",
       "        'http://dbpedia.org/resource/Gads_Hill_Place', '14.041545'],\n",
       "       ['http://commons.dbpedia.org/resource/Category:Places',\n",
       "        'http://xmlns.com/foaf/0.1/givenName',\n",
       "        'http://commons.dbpedia.org/resource/File:Hunebed_010.jpg',\n",
       "        '14.047376'],\n",
       "       ['http://commons.dbpedia.org/resource/Category:Places',\n",
       "        'http://xmlns.com/foaf/0.1/givenName',\n",
       "        'http://dbpedia.org/resource/Charles_Dickens', '14.063109'],\n",
       "       ['http://dbpedia.org/resource/Charles_Dickens',\n",
       "        'http://dbpedia.org/ontology/influenced',\n",
       "        'http://commons.dbpedia.org/resource/Category:Places',\n",
       "        '14.136444'],\n",
       "       ['Charles', 'http://commons.dbpedia.org/property/description',\n",
       "        'http://dbpedia.org/resource/Gads_Hill_Place', '14.198575'],\n",
       "       ['http://dbpedia.org/resource/Gads_Hill_Place',\n",
       "        'http://dbpedia.org/ontology/influenced',\n",
       "        'http://commons.dbpedia.org/resource/Category:Places',\n",
       "        '14.200302'],\n",
       "       ['Charles', 'http://xmlns.com/foaf/0.1/givenName',\n",
       "        'http://dbpedia.org/resource/Charles_Dickens', '14.20785'],\n",
       "       ['http://dbpedia.org/resource/Gads_Hill_Place',\n",
       "        'http://xmlns.com/foaf/0.1/givenName',\n",
       "        'http://commons.dbpedia.org/resource/File:Hunebed_010.jpg',\n",
       "        '14.325599'],\n",
       "       ['http://commons.dbpedia.org/resource/Category:Places',\n",
       "        'http://commons.dbpedia.org/property/description',\n",
       "        'http://dbpedia.org/resource/Gads_Hill_Place', '14.464704'],\n",
       "       ['http://dbpedia.org/resource/Charles_Dickens',\n",
       "        'http://commons.dbpedia.org/property/description', 'Charles',\n",
       "        '14.514585'],\n",
       "       ['http://commons.dbpedia.org/resource/File:Hunebed_010.jpg',\n",
       "        'http://xmlns.com/foaf/0.1/givenName', 'Charles', '14.643624'],\n",
       "       ['http://commons.dbpedia.org/resource/File:Hunebed_010.jpg',\n",
       "        'http://xmlns.com/foaf/0.1/givenName',\n",
       "        'http://commons.dbpedia.org/resource/Category:Places',\n",
       "        '14.661997'],\n",
       "       ['http://dbpedia.org/resource/Charles_Dickens',\n",
       "        'http://commons.dbpedia.org/property/description',\n",
       "        'http://dbpedia.org/resource/Gads_Hill_Place', '14.767096'],\n",
       "       ['http://dbpedia.org/resource/Charles_Dickens',\n",
       "        'http://xmlns.com/foaf/0.1/givenName',\n",
       "        'http://commons.dbpedia.org/resource/File:Hunebed_010.jpg',\n",
       "        '14.786228'],\n",
       "       ['http://commons.dbpedia.org/resource/File:Hunebed_010.jpg',\n",
       "        'http://dbpedia.org/ontology/influenced',\n",
       "        'http://commons.dbpedia.org/resource/Category:Places',\n",
       "        '14.845304'],\n",
       "       ['http://commons.dbpedia.org/resource/File:Hunebed_010.jpg',\n",
       "        'http://dbpedia.org/ontology/influenced',\n",
       "        'http://dbpedia.org/resource/Gads_Hill_Place', '14.848664'],\n",
       "       ['Charles', 'http://xmlns.com/foaf/0.1/givenName',\n",
       "        'http://dbpedia.org/resource/Gads_Hill_Place', '15.089754'],\n",
       "       ['Charles', 'http://dbpedia.org/ontology/influenced',\n",
       "        'http://dbpedia.org/resource/Gads_Hill_Place', '15.154168'],\n",
       "       ['Charles', 'http://dbpedia.org/ontology/influenced',\n",
       "        'http://commons.dbpedia.org/resource/File:Hunebed_010.jpg',\n",
       "        '15.248031'],\n",
       "       ['http://commons.dbpedia.org/resource/Category:Places',\n",
       "        'http://commons.dbpedia.org/property/description', 'Charles',\n",
       "        '15.263553'],\n",
       "       ['Charles', 'http://xmlns.com/foaf/0.1/givenName',\n",
       "        'http://commons.dbpedia.org/resource/Category:Places',\n",
       "        '15.274493'],\n",
       "       ['http://dbpedia.org/resource/Gads_Hill_Place',\n",
       "        'http://commons.dbpedia.org/property/description',\n",
       "        'http://commons.dbpedia.org/resource/Category:Places',\n",
       "        '15.39386'],\n",
       "       ['http://dbpedia.org/resource/Charles_Dickens',\n",
       "        'http://dbpedia.org/ontology/influenced',\n",
       "        'http://commons.dbpedia.org/resource/File:Hunebed_010.jpg',\n",
       "        '15.41524'],\n",
       "       ['Charles', 'http://dbpedia.org/ontology/influenced',\n",
       "        'http://commons.dbpedia.org/resource/Category:Places',\n",
       "        '15.52131'],\n",
       "       ['http://dbpedia.org/resource/Gads_Hill_Place',\n",
       "        'http://commons.dbpedia.org/property/description', 'Charles',\n",
       "        '15.603816'],\n",
       "       ['http://commons.dbpedia.org/resource/File:Hunebed_010.jpg',\n",
       "        'http://dbpedia.org/ontology/influenced',\n",
       "        'http://dbpedia.org/resource/Charles_Dickens', '15.688884'],\n",
       "       ['Charles', 'http://xmlns.com/foaf/0.1/givenName',\n",
       "        'http://commons.dbpedia.org/resource/File:Hunebed_010.jpg',\n",
       "        '15.877297'],\n",
       "       ['Charles', 'http://commons.dbpedia.org/property/description',\n",
       "        'http://commons.dbpedia.org/resource/Category:Places',\n",
       "        '15.913452'],\n",
       "       ['http://commons.dbpedia.org/resource/File:Hunebed_010.jpg',\n",
       "        'http://xmlns.com/foaf/0.1/givenName',\n",
       "        'http://dbpedia.org/resource/Charles_Dickens', '16.216688'],\n",
       "       ['http://dbpedia.org/resource/Charles_Dickens',\n",
       "        'http://commons.dbpedia.org/property/description',\n",
       "        'http://commons.dbpedia.org/resource/Category:Places',\n",
       "        '16.626091'],\n",
       "       ['http://commons.dbpedia.org/resource/Category:Places',\n",
       "        'http://commons.dbpedia.org/property/description',\n",
       "        'http://commons.dbpedia.org/resource/File:Hunebed_010.jpg',\n",
       "        '16.765995'],\n",
       "       ['http://dbpedia.org/resource/Gads_Hill_Place',\n",
       "        'http://commons.dbpedia.org/property/description',\n",
       "        'http://commons.dbpedia.org/resource/File:Hunebed_010.jpg',\n",
       "        '17.381638'],\n",
       "       ['Charles', 'http://commons.dbpedia.org/property/description',\n",
       "        'http://commons.dbpedia.org/resource/File:Hunebed_010.jpg',\n",
       "        '17.813643'],\n",
       "       ['http://dbpedia.org/resource/Charles_Dickens',\n",
       "        'http://commons.dbpedia.org/property/description',\n",
       "        'http://commons.dbpedia.org/resource/File:Hunebed_010.jpg',\n",
       "        '18.793846']], dtype='<U56')"
      ]
     },
     "execution_count": 9,
     "metadata": {},
     "output_type": "execute_result"
    }
   ],
   "source": [
    "predictions"
   ]
  },
  {
   "cell_type": "code",
   "execution_count": null,
   "metadata": {},
   "outputs": [],
   "source": []
  }
 ],
 "metadata": {
  "kernelspec": {
   "display_name": "Python 3",
   "language": "python",
   "name": "python3"
  },
  "language_info": {
   "codemirror_mode": {
    "name": "ipython",
    "version": 3
   },
   "file_extension": ".py",
   "mimetype": "text/x-python",
   "name": "python",
   "nbconvert_exporter": "python",
   "pygments_lexer": "ipython3",
   "version": "3.7.3"
  }
 },
 "nbformat": 4,
 "nbformat_minor": 2
}
